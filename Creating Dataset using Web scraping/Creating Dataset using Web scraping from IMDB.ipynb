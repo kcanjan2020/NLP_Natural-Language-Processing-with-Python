{
 "cells": [
  {
   "cell_type": "raw",
   "id": "f435358c",
   "metadata": {},
   "source": [
    "import pandas as pd \n",
    "import requests\n",
    "from bs4 import BeautifulSoup \n",
    "import numpy as np\n"
   ]
  },
  {
   "cell_type": "code",
   "execution_count": 1,
   "id": "053911c5",
   "metadata": {},
   "outputs": [
    {
     "ename": "NameError",
     "evalue": "name 'requests' is not defined",
     "output_type": "error",
     "traceback": [
      "\u001b[0;31m---------------------------------------------------------------------------\u001b[0m",
      "\u001b[0;31mNameError\u001b[0m                                 Traceback (most recent call last)",
      "Cell \u001b[0;32mIn[1], line 2\u001b[0m\n\u001b[1;32m      1\u001b[0m url\u001b[38;5;241m=\u001b[39m\u001b[38;5;124m'\u001b[39m\u001b[38;5;124mhttps://www.imdb.com/search/title/?count=100&groups=top_1000&sort=user_rating\u001b[39m\u001b[38;5;124m'\u001b[39m\n\u001b[0;32m----> 2\u001b[0m response\u001b[38;5;241m=\u001b[39m\u001b[43mrequests\u001b[49m\u001b[38;5;241m.\u001b[39mget(url)\n\u001b[1;32m      3\u001b[0m soup\u001b[38;5;241m=\u001b[39mBeautifulSoup(response\u001b[38;5;241m.\u001b[39mcontent, \u001b[38;5;124m'\u001b[39m\u001b[38;5;124mhtml.parser\u001b[39m\u001b[38;5;124m'\u001b[39m)\n",
      "\u001b[0;31mNameError\u001b[0m: name 'requests' is not defined"
     ]
    }
   ],
   "source": [
    "url='https://www.imdb.com/search/title/?count=100&groups=top_1000&sort=user_rating'\n",
    "response=requests.get(url)\n",
    "soup=BeautifulSoup(response.content, 'html.parser')"
   ]
  },
  {
   "cell_type": "code",
   "execution_count": null,
   "id": "b3cc73e2",
   "metadata": {},
   "outputs": [],
   "source": [
    "response\n"
   ]
  },
  {
   "cell_type": "code",
   "execution_count": null,
   "id": "84a81a3c",
   "metadata": {},
   "outputs": [],
   "source": [
    "!pip install requests"
   ]
  },
  {
   "cell_type": "code",
   "execution_count": null,
   "id": "dc3ff6e2",
   "metadata": {},
   "outputs": [],
   "source": [
    "print(soup)"
   ]
  },
  {
   "cell_type": "code",
   "execution_count": null,
   "id": "820c34d3",
   "metadata": {},
   "outputs": [],
   "source": [
    "movie_name=[]\n",
    "year=[]\n",
    "time=[]\n",
    "rating=[]\n",
    "metascore=[]\n",
    "votes=[]\n",
    "gross=[]\n",
    "trainding=[]\n",
    "\n"
   ]
  },
  {
   "cell_type": "code",
   "execution_count": null,
   "id": "04d721b3",
   "metadata": {},
   "outputs": [],
   "source": []
  },
  {
   "cell_type": "code",
   "execution_count": null,
   "id": "5cd98456",
   "metadata": {},
   "outputs": [],
   "source": []
  },
  {
   "cell_type": "code",
   "execution_count": null,
   "id": "a0e9934c",
   "metadata": {},
   "outputs": [],
   "source": []
  },
  {
   "cell_type": "code",
   "execution_count": null,
   "id": "bf4fa803",
   "metadata": {},
   "outputs": [],
   "source": [
    "movie_data=soup.find_all('div',attrs={'class': 'lister-item mode-advanced'})"
   ]
  },
  {
   "cell_type": "code",
   "execution_count": null,
   "id": "3789fd88",
   "metadata": {},
   "outputs": [],
   "source": [
    "movie_data"
   ]
  },
  {
   "cell_type": "code",
   "execution_count": null,
   "id": "36630fd3",
   "metadata": {},
   "outputs": [],
   "source": [
    "for store in movie_data:\n",
    "    name=store.h3.a.text\n",
    "    movie_name.append(name)\n",
    "    \n",
    "    year_of_release=store.h3.find('span', class_='lister-item-year text-muted unbold').text.replace('(','').replace(')','')\n",
    "    year.append(year_of_release)\n",
    "    \n",
    "    runtime=store.p.find('span', class_='runtime').text.replace('min','')\n",
    "    time.append(runtime)\n",
    "    \n",
    "    rate=store.find('div', class_='inline-block ratings-imdb-rating').text.replace('\\n','')\n",
    "    rating.append(rate)\n",
    "    \n",
    "    meta=store.find('span', class_='metascore').text.replace(' ','') if store.find('span', class_='metascore') else '*****'\n",
    "    metascore.append(meta)\n",
    "    \n",
    "    value=store.find_all('span', attrs={'name':'nv'})\n",
    "    vote=value[0].text\n",
    "    votes.append(vote)\n",
    "    gros=value[1].text if len(value)>1 else '*****'\n",
    "    gross.append(gros)\n",
    "    train=value[2].text if len(value)>1 else '*****'\n",
    "    trainding.append(train)\n",
    "   \n",
    "    \n",
    "    \n"
   ]
  },
  {
   "cell_type": "code",
   "execution_count": null,
   "id": "05309338",
   "metadata": {},
   "outputs": [],
   "source": [
    "year"
   ]
  },
  {
   "cell_type": "code",
   "execution_count": null,
   "id": "f3ced7a0",
   "metadata": {},
   "outputs": [],
   "source": [
    "gross"
   ]
  },
  {
   "cell_type": "code",
   "execution_count": null,
   "id": "257e846c",
   "metadata": {},
   "outputs": [],
   "source": []
  },
  {
   "cell_type": "code",
   "execution_count": null,
   "id": "9ee13b21",
   "metadata": {},
   "outputs": [],
   "source": [
    "np.count_nonzero(movie_name)"
   ]
  },
  {
   "cell_type": "code",
   "execution_count": null,
   "id": "45a45d3c",
   "metadata": {},
   "outputs": [],
   "source": [
    "print(movie_name)"
   ]
  },
  {
   "cell_type": "code",
   "execution_count": null,
   "id": "3c6855bf",
   "metadata": {},
   "outputs": [],
   "source": [
    "movie_name\n"
   ]
  },
  {
   "cell_type": "code",
   "execution_count": null,
   "id": "2ee6d40a",
   "metadata": {},
   "outputs": [],
   "source": [
    "movie_DF=pd.DataFrame({ 'Name Of Movies':movie_name, 'Year_of_Release':year_of_release,'WatchTime':time,'Movies Rating':rating,'Metascore':metascore,'Votes':votes,'Gross':gross})"
   ]
  },
  {
   "cell_type": "code",
   "execution_count": 2,
   "id": "dde7fe02",
   "metadata": {},
   "outputs": [
    {
     "ename": "NameError",
     "evalue": "name 'movie_DF' is not defined",
     "output_type": "error",
     "traceback": [
      "\u001b[0;31m---------------------------------------------------------------------------\u001b[0m",
      "\u001b[0;31mNameError\u001b[0m                                 Traceback (most recent call last)",
      "Cell \u001b[0;32mIn[2], line 1\u001b[0m\n\u001b[0;32m----> 1\u001b[0m \u001b[43mmovie_DF\u001b[49m\n",
      "\u001b[0;31mNameError\u001b[0m: name 'movie_DF' is not defined"
     ]
    }
   ],
   "source": [
    "movie_DF"
   ]
  },
  {
   "cell_type": "code",
   "execution_count": null,
   "id": "c4d3dab0",
   "metadata": {},
   "outputs": [],
   "source": [
    "!pip install pandas\n"
   ]
  },
  {
   "cell_type": "code",
   "execution_count": null,
   "id": "bcf9e892",
   "metadata": {},
   "outputs": [],
   "source": []
  }
 ],
 "metadata": {
  "kernelspec": {
   "display_name": "Python 3 (ipykernel)",
   "language": "python",
   "name": "python3"
  },
  "language_info": {
   "codemirror_mode": {
    "name": "ipython",
    "version": 3
   },
   "file_extension": ".py",
   "mimetype": "text/x-python",
   "name": "python",
   "nbconvert_exporter": "python",
   "pygments_lexer": "ipython3",
   "version": "3.10.6"
  }
 },
 "nbformat": 4,
 "nbformat_minor": 5
}
