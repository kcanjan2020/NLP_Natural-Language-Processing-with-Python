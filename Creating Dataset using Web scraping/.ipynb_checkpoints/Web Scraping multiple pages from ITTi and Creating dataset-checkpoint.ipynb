{
 "cells": [
  {
   "cell_type": "code",
   "execution_count": 1,
   "id": "bf7807c5",
   "metadata": {},
   "outputs": [],
   "source": [
    "import pandas as pd \n",
    "import requests\n",
    "from bs4 import BeautifulSoup \n",
    "import numpy as np\n"
   ]
  },
  {
   "cell_type": "code",
   "execution_count": null,
   "id": "710addd8",
   "metadata": {},
   "outputs": [],
   "source": []
  },
  {
   "cell_type": "code",
   "execution_count": null,
   "id": "c21432f3",
   "metadata": {},
   "outputs": [],
   "source": []
  },
  {
   "cell_type": "code",
   "execution_count": null,
   "id": "45072cd1",
   "metadata": {},
   "outputs": [],
   "source": []
  },
  {
   "cell_type": "code",
   "execution_count": 2,
   "id": "2d8b12c6",
   "metadata": {},
   "outputs": [],
   "source": [
    "Descrptin=[]\n",
    "price=[]\n"
   ]
  },
  {
   "cell_type": "code",
   "execution_count": null,
   "id": "6bebbcfd",
   "metadata": {},
   "outputs": [],
   "source": []
  },
  {
   "cell_type": "code",
   "execution_count": null,
   "id": "646217f9",
   "metadata": {},
   "outputs": [],
   "source": [
    "data"
   ]
  },
  {
   "cell_type": "code",
   "execution_count": 6,
   "id": "61b0cedb",
   "metadata": {},
   "outputs": [
    {
     "ename": "IndentationError",
     "evalue": "expected an indented block after 'for' statement on line 12 (3533263788.py, line 13)",
     "output_type": "error",
     "traceback": [
      "\u001b[0;36m  Cell \u001b[0;32mIn[6], line 13\u001b[0;36m\u001b[0m\n\u001b[0;31m    Des=store.find( 'a',class_='product-item-link').text.replace('\\n','').replace(' ','')\u001b[0m\n\u001b[0m    ^\u001b[0m\n\u001b[0;31mIndentationError\u001b[0m\u001b[0;31m:\u001b[0m expected an indented block after 'for' statement on line 12\n"
     ]
    }
   ],
   "source": [
    "#creating an array of values and passing it in the url for dynamic webpages\n",
    "pages = np.arange(1,1000,100)\n",
    "\n",
    "#the whole core of the script\n",
    "for page in pages:\n",
    "    #page = requests.get(\"https://www.imdb.com/search/title/?groups=top_1000&sort=user_rating,desc&count=100&start=\"+str(page)+\"&ref_=adv_nxt\")\n",
    "    page = requests.get(\"https://itti.com.np/laptops-by-brands?p=\"+str(page))\n",
    "    soup = BeautifulSoup(page.text, 'html.parser')\n",
    "    data=soup.find_all('li',attrs={'class': 'item product product-item'})\n",
    "    sleep(randint(2,8))\n",
    "    \n",
    "    for store in data:\n",
    "        Des=store.find( 'a',class_='product-item-link').text.replace('\\n','').replace(' ','')\n",
    "        Descrptin.append(Des)\n",
    "        pri=store.find( 'span',class_='price').text.replace('\\n','').replace(' ','').replace('NPR','')\n",
    "        price.append(pri)\n",
    "   \n",
    "\n",
    "    "
   ]
  },
  {
   "cell_type": "code",
   "execution_count": null,
   "id": "76cd464d",
   "metadata": {},
   "outputs": [],
   "source": [
    "Descrptin"
   ]
  },
  {
   "cell_type": "code",
   "execution_count": null,
   "id": "e91f2ea8",
   "metadata": {},
   "outputs": [],
   "source": [
    "price"
   ]
  },
  {
   "cell_type": "code",
   "execution_count": null,
   "id": "77c825d3",
   "metadata": {},
   "outputs": [],
   "source": [
    "movie_DF=pd.DataFrame({ 'Description':Descrptin, 'Price':price})"
   ]
  },
  {
   "cell_type": "code",
   "execution_count": null,
   "id": "429ee455",
   "metadata": {},
   "outputs": [],
   "source": [
    "movie_DF\n"
   ]
  },
  {
   "cell_type": "code",
   "execution_count": null,
   "id": "f7ca45ba",
   "metadata": {},
   "outputs": [],
   "source": []
  },
  {
   "cell_type": "code",
   "execution_count": null,
   "id": "1589b92d",
   "metadata": {},
   "outputs": [],
   "source": []
  },
  {
   "cell_type": "code",
   "execution_count": null,
   "id": "a5864567",
   "metadata": {},
   "outputs": [],
   "source": []
  },
  {
   "cell_type": "code",
   "execution_count": null,
   "id": "a60c80f5",
   "metadata": {},
   "outputs": [],
   "source": []
  }
 ],
 "metadata": {
  "kernelspec": {
   "display_name": "Python 3 (ipykernel)",
   "language": "python",
   "name": "python3"
  },
  "language_info": {
   "codemirror_mode": {
    "name": "ipython",
    "version": 3
   },
   "file_extension": ".py",
   "mimetype": "text/x-python",
   "name": "python",
   "nbconvert_exporter": "python",
   "pygments_lexer": "ipython3",
   "version": "3.10.6"
  }
 },
 "nbformat": 4,
 "nbformat_minor": 5
}
