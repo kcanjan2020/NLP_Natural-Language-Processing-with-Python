{
 "cells": [
  {
   "cell_type": "code",
   "execution_count": 1,
   "id": "bf7807c5",
   "metadata": {},
   "outputs": [],
   "source": [
    "import pandas as pd \n",
    "import requests\n",
    "from bs4 import BeautifulSoup \n",
    "import numpy as np\n"
   ]
  },
  {
   "cell_type": "code",
   "execution_count": null,
   "id": "710addd8",
   "metadata": {},
   "outputs": [],
   "source": [
    "url='https://itti.com.np/laptops-by-brands'\n",
    "page=requests.get(url)\n",
    "soup=BeautifulSoup(page.content, 'html.parser')\n",
    "while True:\n",
    "    next_page=soup.find('a',class_='page').get(\"href\")\n",
    "    complete_next_Page='https://itti.com.np'+next_page\n",
    "    url=  complete_next_Page\n",
    "    page=requests.get(url)\n",
    "    soup=BeautifulSoup(page.content, 'html.parser')"
   ]
  },
  {
   "cell_type": "code",
   "execution_count": null,
   "id": "c21432f3",
   "metadata": {},
   "outputs": [],
   "source": [
    "complete_next_Page"
   ]
  },
  {
   "cell_type": "code",
   "execution_count": null,
   "id": "45072cd1",
   "metadata": {},
   "outputs": [],
   "source": [
    "soup"
   ]
  },
  {
   "cell_type": "code",
   "execution_count": null,
   "id": "2d8b12c6",
   "metadata": {},
   "outputs": [],
   "source": [
    "Descrptin=[]\n",
    "price=[]\n"
   ]
  },
  {
   "cell_type": "code",
   "execution_count": null,
   "id": "6bebbcfd",
   "metadata": {},
   "outputs": [],
   "source": [
    "data=soup.find_all('li',attrs={'class': 'item product product-item'})"
   ]
  },
  {
   "cell_type": "code",
   "execution_count": null,
   "id": "646217f9",
   "metadata": {},
   "outputs": [],
   "source": [
    "data"
   ]
  },
  {
   "cell_type": "code",
   "execution_count": null,
   "id": "61b0cedb",
   "metadata": {},
   "outputs": [],
   "source": [
    "\n",
    "for store in data:\n",
    "    Des=store.find( 'a',class_='product-item-link').text.replace('\\n','').replace(' ','')\n",
    "    Descrptin.append(Des)\n",
    "    pri=store.find( 'span',class_='price').text.replace('\\n','').replace(' ','').replace('NPR','')\n",
    "    price.append(pri)\n",
    "   \n",
    "\n",
    "    "
   ]
  },
  {
   "cell_type": "code",
   "execution_count": null,
   "id": "76cd464d",
   "metadata": {},
   "outputs": [],
   "source": [
    "Descrptin"
   ]
  },
  {
   "cell_type": "code",
   "execution_count": null,
   "id": "e91f2ea8",
   "metadata": {},
   "outputs": [],
   "source": [
    "price"
   ]
  },
  {
   "cell_type": "code",
   "execution_count": null,
   "id": "77c825d3",
   "metadata": {},
   "outputs": [],
   "source": [
    "movie_DF=pd.DataFrame({ 'Description':Descrptin, 'Price':price})"
   ]
  },
  {
   "cell_type": "code",
   "execution_count": null,
   "id": "429ee455",
   "metadata": {},
   "outputs": [],
   "source": [
    "movie_DF\n"
   ]
  },
  {
   "cell_type": "code",
   "execution_count": null,
   "id": "f7ca45ba",
   "metadata": {},
   "outputs": [],
   "source": []
  },
  {
   "cell_type": "code",
   "execution_count": null,
   "id": "1589b92d",
   "metadata": {},
   "outputs": [],
   "source": []
  },
  {
   "cell_type": "code",
   "execution_count": null,
   "id": "a5864567",
   "metadata": {},
   "outputs": [],
   "source": []
  },
  {
   "cell_type": "code",
   "execution_count": null,
   "id": "a60c80f5",
   "metadata": {},
   "outputs": [],
   "source": []
  }
 ],
 "metadata": {
  "kernelspec": {
   "display_name": "Python 3 (ipykernel)",
   "language": "python",
   "name": "python3"
  },
  "language_info": {
   "codemirror_mode": {
    "name": "ipython",
    "version": 3
   },
   "file_extension": ".py",
   "mimetype": "text/x-python",
   "name": "python",
   "nbconvert_exporter": "python",
   "pygments_lexer": "ipython3",
   "version": "3.10.6"
  }
 },
 "nbformat": 4,
 "nbformat_minor": 5
}
