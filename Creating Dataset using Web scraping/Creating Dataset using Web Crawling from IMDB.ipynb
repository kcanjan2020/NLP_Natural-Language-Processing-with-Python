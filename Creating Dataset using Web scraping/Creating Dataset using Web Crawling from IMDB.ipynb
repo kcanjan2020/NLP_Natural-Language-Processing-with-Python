{
 "cells": [
  {
   "cell_type": "code",
   "execution_count": 2,
   "id": "bf7807c5",
   "metadata": {},
   "outputs": [],
   "source": [
    "import pandas as pd \n",
    "import requests\n",
    "from bs4 import BeautifulSoup \n",
    "import numpy as np\n"
   ]
  },
  {
   "cell_type": "code",
   "execution_count": null,
   "id": "ebf86d0c",
   "metadata": {},
   "outputs": [],
   "source": []
  },
  {
   "cell_type": "code",
   "execution_count": 3,
   "id": "710addd8",
   "metadata": {},
   "outputs": [],
   "source": [
    "url='https://www.youtube.com/watch?v=WcJ0y2K_67M'\n",
    "#url='https://www.imdb.com/search/title/?count=100&groups=top_1000&sort=user_rating'\n",
    "page=requests.get(url)\n",
    "soup=BeautifulSoup(page.content, 'html.parser')"
   ]
  },
  {
   "cell_type": "code",
   "execution_count": 13,
   "id": "2d8b12c6",
   "metadata": {},
   "outputs": [],
   "source": [
    "movie_name=[]\n",
    "year=[]\n",
    "time=[]\n",
    "rating=[]\n",
    "metascore=[]\n",
    "votes=[]\n",
    "gross=[]"
   ]
  },
  {
   "cell_type": "code",
   "execution_count": 29,
   "id": "6bebbcfd",
   "metadata": {},
   "outputs": [],
   "source": [
    "movie_data=soup.find_all('ytd-comment-renderer',attrs={'class': 'style-scope ytd-item-section-renderer'})"
   ]
  },
  {
   "cell_type": "code",
   "execution_count": 30,
   "id": "646217f9",
   "metadata": {},
   "outputs": [
    {
     "data": {
      "text/plain": [
       "[]"
      ]
     },
     "execution_count": 30,
     "metadata": {},
     "output_type": "execute_result"
    }
   ],
   "source": [
    "movie_data"
   ]
  },
  {
   "cell_type": "code",
   "execution_count": 31,
   "id": "61b0cedb",
   "metadata": {},
   "outputs": [],
   "source": [
    "year_of_release=soup.find_all('div',class_='style-scope ytd-comment-renderer')\n"
   ]
  },
  {
   "cell_type": "code",
   "execution_count": null,
   "id": "76cd464d",
   "metadata": {},
   "outputs": [],
   "source": []
  },
  {
   "cell_type": "code",
   "execution_count": 12,
   "id": "e91f2ea8",
   "metadata": {},
   "outputs": [
    {
     "data": {
      "text/plain": [
       "[]"
      ]
     },
     "execution_count": 12,
     "metadata": {},
     "output_type": "execute_result"
    }
   ],
   "source": [
    "year_of_release"
   ]
  },
  {
   "cell_type": "code",
   "execution_count": null,
   "id": "80f8df79",
   "metadata": {},
   "outputs": [],
   "source": []
  },
  {
   "cell_type": "code",
   "execution_count": null,
   "id": "830ef449",
   "metadata": {},
   "outputs": [],
   "source": []
  },
  {
   "cell_type": "code",
   "execution_count": null,
   "id": "0876bd98",
   "metadata": {},
   "outputs": [],
   "source": [
    "name"
   ]
  },
  {
   "cell_type": "code",
   "execution_count": null,
   "id": "b902b1a2",
   "metadata": {},
   "outputs": [],
   "source": [
    "laptop_data"
   ]
  },
  {
   "cell_type": "code",
   "execution_count": null,
   "id": "eb6b0d04",
   "metadata": {},
   "outputs": [],
   "source": [
    "for store in laptop_data:\n",
    "    name=store.find('a',class_=\"product-item-link\")\n",
    "    laptop_title.append(name)\n",
    "    \n",
    "  #  year_of_release=store.h3.find('span', class_='lister-item-year text-muted unbold').text.replace('(','').replace(')','')\n",
    "   # year.append(year_of_release)\n",
    "    "
   ]
  },
  {
   "cell_type": "code",
   "execution_count": null,
   "id": "24946441",
   "metadata": {},
   "outputs": [],
   "source": [
    "name"
   ]
  },
  {
   "cell_type": "code",
   "execution_count": null,
   "id": "77c825d3",
   "metadata": {},
   "outputs": [],
   "source": [
    "movie_DF=pd.DataFrame({ 'Name Of Movies':movie_name, 'Year_of_Release':year_of_release,'WatchTime':time,'Movies Rating':rating,'Metascore':metascore,'Votes':votes,'Gross':gross})"
   ]
  },
  {
   "cell_type": "code",
   "execution_count": null,
   "id": "b1f0e971",
   "metadata": {},
   "outputs": [],
   "source": []
  },
  {
   "cell_type": "code",
   "execution_count": null,
   "id": "429ee455",
   "metadata": {},
   "outputs": [],
   "source": [
    "movie_DF.head(60)\n"
   ]
  },
  {
   "cell_type": "code",
   "execution_count": null,
   "id": "f7ca45ba",
   "metadata": {},
   "outputs": [],
   "source": []
  },
  {
   "cell_type": "code",
   "execution_count": null,
   "id": "1589b92d",
   "metadata": {},
   "outputs": [],
   "source": []
  },
  {
   "cell_type": "code",
   "execution_count": null,
   "id": "a5864567",
   "metadata": {},
   "outputs": [],
   "source": []
  },
  {
   "cell_type": "code",
   "execution_count": null,
   "id": "a60c80f5",
   "metadata": {},
   "outputs": [],
   "source": []
  }
 ],
 "metadata": {
  "kernelspec": {
   "display_name": "Python 3 (ipykernel)",
   "language": "python",
   "name": "python3"
  },
  "language_info": {
   "codemirror_mode": {
    "name": "ipython",
    "version": 3
   },
   "file_extension": ".py",
   "mimetype": "text/x-python",
   "name": "python",
   "nbconvert_exporter": "python",
   "pygments_lexer": "ipython3",
   "version": "3.11.1"
  }
 },
 "nbformat": 4,
 "nbformat_minor": 5
}
